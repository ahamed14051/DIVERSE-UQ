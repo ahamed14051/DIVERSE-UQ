{
 "cells": [
  {
   "cell_type": "code",
   "execution_count": 2,
   "id": "a96e84c2-42d8-4ce8-9bd5-f042786b9ff8",
   "metadata": {},
   "outputs": [],
   "source": [
    "import os\n",
    "import gym\n",
    "import numpy as np\n",
    "import cv2\n",
    "import torch\n",
    "import difflib\n",
    "import matplotlib.pyplot as plt\n",
    "from PIL import Image\n",
    "import easyocr\n",
    "from diffusers import StableDiffusion3Pipeline, AutoPipelineForInpainting\n",
    "from peft import PeftModel"
   ]
  },
  {
   "cell_type": "code",
   "execution_count": 5,
   "id": "18982142-8a65-4e71-bc43-90f4cf8841ef",
   "metadata": {},
   "outputs": [
    {
     "name": "stdout",
     "output_type": "stream",
     "text": [
      "Saved images for 'An fisherman casting his net into river.' in 'Dataset/dalle-generated\\prompt_1'\n",
      "Saved images for 'A street market with spices, bargaining shoppers.' in 'Dataset/dalle-generated\\prompt_2'\n",
      "Saved images for 'A blacksmith hammering molten metal.' in 'Dataset/dalle-generated\\prompt_3'\n",
      "Saved images for 'A farmer walking through a wheat field.' in 'Dataset/dalle-generated\\prompt_4'\n",
      "Saved images for 'A train station with  travelers.' in 'Dataset/dalle-generated\\prompt_5'\n",
      "Saved images for 'A library with bookshelves.' in 'Dataset/dalle-generated\\prompt_6'\n",
      "Saved images for 'A battle re-enactment with soldiers marching.' in 'Dataset/dalle-generated\\prompt_7'\n",
      "Saved images for 'A shepherd tending his flock.' in 'Dataset/dalle-generated\\prompt_8'\n",
      "Saved images for 'A family sharing a meal.' in 'Dataset/dalle-generated\\prompt_9'\n",
      "Saved images for 'A craftsman carving a statue.' in 'Dataset/dalle-generated\\prompt_10'\n",
      "Saved images for 'A red apple on a wooden table' in 'Dataset/dalle-generated\\prompt_11'\n",
      "Saved images for 'A black cat sitting on a windowsill' in 'Dataset/dalle-generated\\prompt_12'\n",
      "Saved images for 'A white mug on a kitchen counter' in 'Dataset/dalle-generated\\prompt_13'\n",
      "Saved images for 'A yellow school bus on a street' in 'Dataset/dalle-generated\\prompt_14'\n",
      "Saved images for 'A blue bicycle leaning against a wall' in 'Dataset/dalle-generated\\prompt_15'\n",
      "Saved images for 'A green traffic light at an intersection' in 'Dataset/dalle-generated\\prompt_16'\n",
      "Saved images for 'A brown leather sofa in a living room' in 'Dataset/dalle-generated\\prompt_17'\n",
      "Saved images for 'A white laptop on a desk' in 'Dataset/dalle-generated\\prompt_18'\n",
      "Saved images for 'A black and white photograph of a mountain' in 'Dataset/dalle-generated\\prompt_19'\n",
      "Saved images for 'A red stop sign on a street corner' in 'Dataset/dalle-generated\\prompt_20'\n"
     ]
    }
   ],
   "source": [
    "import os\n",
    "import openai\n",
    "from openai import OpenAI\n",
    "from PIL import Image\n",
    "from io import BytesIO\n",
    "import requests\n",
    "\n",
    "path = 'Dataset/dalle-generated'\n",
    "\n",
    "from openai import OpenAI\n",
    "api_key = 'YOUR_API_KEY'\n",
    "client = OpenAI (\n",
    "    api_key = api_key )\n",
    "\n",
    "# Define your prompts\n",
    "with open(\"list_of_prompts.txt\", \"r\", encoding=\"utf-8\") as file:\n",
    "    prompts = [line.strip() for line in file if line.strip()]\n",
    "\n",
    "# Print the array\n",
    "print(prompts)\n",
    "\n",
    "output_base_dir = path\n",
    "os.makedirs(output_base_dir, exist_ok=True)\n",
    "\n",
    "for prompt_idx, prompt in enumerate(prompts, start=1):\n",
    "    folder_name = f\"prompt_{prompt_idx}\"\n",
    "    folder_path = os.path.join(output_base_dir, folder_name)\n",
    "    os.makedirs(folder_path, exist_ok=True)\n",
    "\n",
    "    # Save prompt text\n",
    "    with open(os.path.join(folder_path, f\"prompt_{prompt_idx}.txt\"), \"w\") as file:\n",
    "        file.write(prompt)\n",
    "\n",
    "    # Generate 5 images per prompt\n",
    "    for image_num in range(1, 6):\n",
    "        response = client.images.generate(\n",
    "            prompt=prompt,\n",
    "            n=1,\n",
    "            size=\"1024x1024\"\n",
    "        )\n",
    "        image_url = response.data[0].url  # Correct way to access the URL\n",
    "        image_response = requests.get(image_url)\n",
    "        image = Image.open(BytesIO(image_response.content))\n",
    "        image_path = os.path.join(folder_path, f\"prompt{prompt_idx}_image{image_num}.jpg\")\n",
    "        image.save(image_path)\n",
    "\n",
    "    print(f\"Saved images for '{prompt}' in '{folder_path}'\")"
   ]
  },
  {
   "cell_type": "code",
   "execution_count": null,
   "id": "f01b7f09-5236-42e0-811b-d5457ea13691",
   "metadata": {},
   "outputs": [],
   "source": []
  }
 ],
 "metadata": {
  "kernelspec": {
   "display_name": "Python 3 (ipykernel)",
   "language": "python",
   "name": "python3"
  },
  "language_info": {
   "codemirror_mode": {
    "name": "ipython",
    "version": 3
   },
   "file_extension": ".py",
   "mimetype": "text/x-python",
   "name": "python",
   "nbconvert_exporter": "python",
   "pygments_lexer": "ipython3",
   "version": "3.9.10"
  }
 },
 "nbformat": 4,
 "nbformat_minor": 5
}
